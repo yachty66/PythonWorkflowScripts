{
 "cells": [
  {
   "cell_type": "markdown",
   "metadata": {},
   "source": [
    "# Multiple Linear Regression"
   ]
  },
  {
   "cell_type": "markdown",
   "metadata": {},
   "source": [
    "## Questions:\n",
    "\n",
    "### What is the wikipedia link to the algorithm?\n",
    "\n",
    "- https://en.wikipedia.org/wiki/Linear_regression\n",
    "\n",
    "### Which type of machine learning algorithm is this?\n",
    "\n",
    "- Supervised learning\n",
    "\n",
    "### What is the best video tutorial on this algorithm?\n",
    "\n",
    "- [Video](https://www.youtube.com/watch?v=ZkjP5RJLQF4)\n",
    "\n",
    "### What is the best text?\n",
    "\n",
    "- [Link](https://ml-cheatsheet.readthedocs.io/en/latest/linear_regression.html#multivariable-regression)\n",
    "\n",
    "### What is the best picture which describes the algorithm?\n",
    "\n",
    "- ![Linear Regression](Images/LinearRegression.jpeg)\n",
    "\n",
    "### What is one case for which the algorithm is used for?\n",
    "\n",
    "- Company has saved sales data. If she does a linear regression with monthly sales and sales data the company can be eventually able to predict future sales."
   ]
  },
  {
   "cell_type": "markdown",
   "metadata": {},
   "source": [
    "## From scratch implementation."
   ]
  },
  {
   "cell_type": "markdown",
   "metadata": {},
   "source": [
    "### Steps for reproducing the algorithm:\n",
    "1. **Hypothesis**\n",
    "    - Returns dependent variable y\n",
    "2. **Cost function** \n",
    "    - Root mean squared error defines the difference between the predicted y and and the actual y \n",
    "3. **Gradient descent**\n",
    "    - Updates theta values for each batch (old theta - learning rate $\\cdot$ new theta)\n",
    "    - Implements partial derivative respective to each theta \n",
    "4. **Linear regression**\n",
    "    - Collects for n iterations cost function values and theta values\n",
    "5. **Validation**\n",
    "    - Tests with theta values from trained model if dependent variables y getting correctly predicted"
   ]
  },
  {
   "cell_type": "code",
   "execution_count": 1,
   "metadata": {},
   "outputs": [],
   "source": [
    "import numpy as np\n",
    "from sklearn import datasets\n",
    "from sklearn.model_selection import train_test_split\n",
    "from sklearn.linear_model import LinearRegression"
   ]
  },
  {
   "cell_type": "markdown",
   "metadata": {},
   "source": [
    "### Hypothesis\n",
    "\n",
    "$y= \\theta_1 \\cdot x_1 + \\theta_2 \\cdot x_2 + \\cdots + \\theta_n \\cdot x_n$"
   ]
  },
  {
   "cell_type": "code",
   "execution_count": 2,
   "metadata": {},
   "outputs": [],
   "source": [
    "def hypothesis(X, thetas):\n",
    "    y = np.dot(X, thetas)\n",
    "    return y "
   ]
  },
  {
   "cell_type": "markdown",
   "metadata": {},
   "source": [
    "### Cost function\n",
    "\n",
    "$J = \\frac{1}{2n}\\sum_{i=1}^{n}(y_i - (\\theta_1 \\cdot x_1 + \\theta_2 \\cdot x_2 + \\cdots + \\theta_n \\cdot x_n))^2$"
   ]
  },
  {
   "cell_type": "code",
   "execution_count": 3,
   "metadata": {},
   "outputs": [],
   "source": [
    "def costFunction(X, y, thetas):\n",
    "    j = 1/2*len(X) * ((y - hypothesis(X, thetas))**2)\n",
    "    return j"
   ]
  },
  {
   "cell_type": "markdown",
   "metadata": {},
   "source": [
    "### Gradient descent\n",
    "\n",
    "Using chain rule for creating partial derivative of each $\\theta$.\n",
    "\n",
    "$f'(\\theta_1) = -x_1(y - (\\theta_1 x_1 + \\theta_2 x_2 + \\cdots + \\theta_n x_n)) \\\\$\n",
    "$f'(\\theta_2) = -x_2(y - (\\theta_1 x_1 + \\theta_2 x_2 + \\cdots + \\theta_n x_n)) \\\\$\n",
    "$\\vdots\\\\$\n",
    "$f'(\\theta_n) = -x_3(y - (\\theta_1 x_1 + \\theta_2 x_2 + \\cdots + \\theta_n x_n))$\n"
   ]
  },
  {
   "cell_type": "code",
   "execution_count": 4,
   "metadata": {},
   "outputs": [],
   "source": [
    "def updateTheta(X, y, thetas, learningRate):\n",
    "    thetasNew = []\n",
    "    for i in range(thetas.size):\n",
    "        thetaNew = thetas[i] - learningRate*(-X[i]*(y-(np.dot(X,thetas))))\n",
    "        thetasNew.append(thetaNew)\n",
    "    return np.array(thetasNew)"
   ]
  },
  {
   "cell_type": "markdown",
   "metadata": {},
   "source": [
    "### Building the model"
   ]
  },
  {
   "cell_type": "code",
   "execution_count": 5,
   "metadata": {},
   "outputs": [],
   "source": [
    "def linearRegression(X, y, thetas, learningRate, iterations):\n",
    "    costFunctionResults = []\n",
    "    thetasResults = []\n",
    "    for i in range(iterations):\n",
    "        for i in range(len(X)):\n",
    "            j = costFunction(thetas, X[i], y[i])\n",
    "            thetas = updateTheta(X[i], y[i], thetas, learningRate)\n",
    "            costFunctionResults.append(j)\n",
    "            thetasResults.append(thetas)\n",
    "    return costFunctionResults, thetasResults\n",
    "        "
   ]
  },
  {
   "cell_type": "markdown",
   "metadata": {},
   "source": [
    "### Data creation with scikit-learn"
   ]
  },
  {
   "cell_type": "code",
   "execution_count": 6,
   "metadata": {},
   "outputs": [],
   "source": [
    "X, y = datasets.make_regression(\n",
    "    n_samples=100, n_features=4, noise=20, random_state=4\n",
    ")\n",
    "\n",
    "X_train, X_test, y_train, y_test = train_test_split(\n",
    "    X, y, test_size=0.2, random_state=1234\n",
    ")"
   ]
  },
  {
   "cell_type": "markdown",
   "metadata": {},
   "source": [
    "### Train my own model"
   ]
  },
  {
   "cell_type": "code",
   "execution_count": 7,
   "metadata": {},
   "outputs": [],
   "source": [
    "thetas = np.ones(X_train[0].size)\n",
    "iterations = 100\n",
    "learningRate = 0.01\n",
    "costFunctionResults, thetasResults = linearRegression(X_train, y_train, thetas, learningRate, iterations)"
   ]
  },
  {
   "cell_type": "markdown",
   "metadata": {},
   "source": [
    "### Predicting dependent variables with trained model"
   ]
  },
  {
   "cell_type": "code",
   "execution_count": 8,
   "metadata": {},
   "outputs": [
    {
     "name": "stdout",
     "output_type": "stream",
     "text": [
      "[67.89771335  6.79887016 89.16350876 76.09871124]\n",
      "[-234.26458246427438, -25.185667349663873, -93.55514269635881, -36.94025736266564, -83.38359268611588, 66.29843739469774, 110.72681894797145, -169.96633673234095, 33.984825328541035, -80.00296166833355, 106.28319339635966, -78.95826796461118, 17.446963007468838, 352.6270407110843, -179.2598629039047, -225.88854512588654, -99.88308171236258, -30.872202017347355, -169.42309378535975, -174.61313518875153]\n"
     ]
    }
   ],
   "source": [
    "def val(Xt, thetas): \n",
    "    yPred = []\n",
    "    for i in range(len(Xt)):\n",
    "        y = np.dot(thetas, Xt[i])\n",
    "        yPred.append(y)\n",
    "    return yPred\n",
    "print(thetasResults[-1])\n",
    "print(val(X_test, thetasResults[-1]))"
   ]
  },
  {
   "cell_type": "markdown",
   "metadata": {},
   "source": [
    "### Using scikit-learn for comparing multiple linear regression results"
   ]
  },
  {
   "cell_type": "code",
   "execution_count": 9,
   "metadata": {},
   "outputs": [
    {
     "data": {
      "text/plain": [
       "array([-235.90189249,  -26.44061702,  -94.25756023,  -34.37850339,\n",
       "        -82.72296268,   66.76667711,  110.24828677, -170.1283782 ,\n",
       "         33.86355047,  -77.76008859,  109.09775579,  -81.15534581,\n",
       "         19.48684785,  353.49377319, -178.16899171, -227.73980317,\n",
       "        -96.64067068,  -30.43986168, -168.05853676, -173.43390532])"
      ]
     },
     "execution_count": 9,
     "metadata": {},
     "output_type": "execute_result"
    }
   ],
   "source": [
    "reg = LinearRegression().fit(X, y)\n",
    "reg.predict(X_test)\n",
    "\n",
    "    "
   ]
  }
 ],
 "metadata": {
  "kernelspec": {
   "display_name": "Python 3.10.6 64-bit",
   "language": "python",
   "name": "python3"
  },
  "language_info": {
   "codemirror_mode": {
    "name": "ipython",
    "version": 3
   },
   "file_extension": ".py",
   "mimetype": "text/x-python",
   "name": "python",
   "nbconvert_exporter": "python",
   "pygments_lexer": "ipython3",
   "version": "3.10.6"
  },
  "orig_nbformat": 4,
  "vscode": {
   "interpreter": {
    "hash": "aee8b7b246df8f9039afb4144a1f6fd8d2ca17a180786b69acc140d282b71a49"
   }
  }
 },
 "nbformat": 4,
 "nbformat_minor": 2
}
