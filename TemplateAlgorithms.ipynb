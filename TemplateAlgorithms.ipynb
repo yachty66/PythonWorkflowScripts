{
 "cells": [
  {
   "cell_type": "markdown",
   "metadata": {},
   "source": [
    "# Template"
   ]
  },
  {
   "cell_type": "markdown",
   "metadata": {},
   "source": [
    "## Questions:\n",
    "\n",
    "### What is the wikipedia link to the algorithm?\n",
    "\n",
    "### Link to original paper?\n",
    "\n",
    "### Which type of machine learning algorithm is this?\n",
    "\n",
    "### What is the best video tutorial on this algorithm?\n",
    "\n",
    "### What is the best text?\n",
    "\n",
    "### What is the best picture which describes the algorithm?\n",
    "\n",
    "### What is one case for which the algorithm is used for?"
   ]
  },
  {
   "cell_type": "markdown",
   "metadata": {},
   "source": [
    "## From scratch implementation"
   ]
  }
 ],
 "metadata": {
  "kernelspec": {
   "display_name": "Python 3.10.6 64-bit",
   "language": "python",
   "name": "python3"
  },
  "language_info": {
   "name": "python",
   "version": "3.10.6"
  },
  "orig_nbformat": 4,
  "vscode": {
   "interpreter": {
    "hash": "aee8b7b246df8f9039afb4144a1f6fd8d2ca17a180786b69acc140d282b71a49"
   }
  }
 },
 "nbformat": 4,
 "nbformat_minor": 2
}
